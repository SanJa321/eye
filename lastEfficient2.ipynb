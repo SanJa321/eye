{
 "cells": [
  {
   "cell_type": "code",
   "execution_count": 1,
   "id": "574b0c27",
   "metadata": {},
   "outputs": [],
   "source": [
    "import tensorflow as tf\n",
    "from tensorflow.keras.models import Model\n",
    "from tensorflow.keras.layers import Dense, GlobalAveragePooling2D, Dropout, Conv2D, BatchNormalization, Input\n",
    "from tensorflow.keras.preprocessing.image import ImageDataGenerator\n",
    "from tensorflow.keras.applications import EfficientNetB0\n",
    "from tensorflow.keras.optimizers import Adam\n",
    "import matplotlib.pyplot as plt"
   ]
  },
  {
   "cell_type": "code",
   "execution_count": 2,
   "id": "3d8f0448",
   "metadata": {},
   "outputs": [],
   "source": [
    "# Constants\n",
    "IMG_SIZE = 224\n",
    "BATCH_SIZE = 32"
   ]
  },
  {
   "cell_type": "code",
   "execution_count": 3,
   "id": "3b00626d",
   "metadata": {},
   "outputs": [],
   "source": [
    "# Paths (change these if your dataset is in another location)\n",
    "train_dir = 'dataset_split/train'  # 👈 Replace with your actual train path\n",
    "val_dir = 'dataset_split/val'      # 👈 Replace with your actual val path\n"
   ]
  },
  {
   "cell_type": "code",
   "execution_count": 4,
   "id": "216467d7",
   "metadata": {},
   "outputs": [],
   "source": [
    "# ✅ Data Augmentation + Normalization for training\n",
    "train_datagen = ImageDataGenerator(\n",
    "    preprocessing_function=tf.keras.applications.efficientnet.preprocess_input\n",
    ")\n"
   ]
  },
  {
   "cell_type": "code",
   "execution_count": 5,
   "id": "4f39a9b7",
   "metadata": {},
   "outputs": [],
   "source": [
    "# ✅ Normalization for validation (no augmentation)\n",
    "val_datagen = ImageDataGenerator(\n",
    "    preprocessing_function=tf.keras.applications.efficientnet.preprocess_input\n",
    ")"
   ]
  },
  {
   "cell_type": "code",
   "execution_count": 6,
   "id": "3ae9bf52",
   "metadata": {},
   "outputs": [
    {
     "name": "stdout",
     "output_type": "stream",
     "text": [
      "Found 185004 images belonging to 4 classes.\n"
     ]
    }
   ],
   "source": [
    "# ✅ One-hot encoded data generators\n",
    "train_generator = train_datagen.flow_from_directory(\n",
    "    train_dir,\n",
    "    target_size=(IMG_SIZE, IMG_SIZE),\n",
    "    batch_size=BATCH_SIZE,\n",
    "    class_mode='categorical'\n",
    ")"
   ]
  },
  {
   "cell_type": "code",
   "execution_count": 7,
   "id": "3bc9041a",
   "metadata": {},
   "outputs": [
    {
     "name": "stdout",
     "output_type": "stream",
     "text": [
      "Found 20556 images belonging to 4 classes.\n"
     ]
    }
   ],
   "source": [
    "val_generator = val_datagen.flow_from_directory(\n",
    "    val_dir,\n",
    "    target_size=(IMG_SIZE, IMG_SIZE),\n",
    "    batch_size=BATCH_SIZE,\n",
    "    class_mode='categorical'\n",
    ")\n"
   ]
  },
  {
   "cell_type": "code",
   "execution_count": 8,
   "id": "6240a88b",
   "metadata": {},
   "outputs": [],
   "source": [
    "# ✅ Base model (EfficientNetB0)\n",
    "base_model = EfficientNetB0(\n",
    "    include_top=False,\n",
    "    weights='imagenet',\n",
    "    input_tensor=Input(shape=(IMG_SIZE, IMG_SIZE, 3))\n",
    ")\n",
    "base_model.trainable = False  # Freeze base for initial transfer learning\n"
   ]
  },
  {
   "cell_type": "code",
   "execution_count": 9,
   "id": "2329c48f",
   "metadata": {},
   "outputs": [],
   "source": [
    "from tensorflow.keras.layers import (\n",
    "    SeparableConv2D, BatchNormalization, Flatten, Dropout, Dense, LeakyReLU\n",
    ")\n",
    "from tensorflow.keras.models import Model\n",
    "\n",
    "# Base model output\n",
    "x = base_model.output  # Make sure base_model is already defined and its output shape is known\n",
    "\n",
    "# First SeparableConv block\n",
    "x = SeparableConv2D(64, (3, 3), padding='same')(x)\n",
    "x = BatchNormalization()(x)\n",
    "x = LeakyReLU()(x)\n",
    "\n",
    "# Second SeparableConv block\n",
    "x = SeparableConv2D(128, (3, 3), padding='same')(x)\n",
    "x = BatchNormalization()(x)\n",
    "x = LeakyReLU()(x)\n",
    "\n",
    "# Flatten instead of GAP\n",
    "x = Flatten()(x)\n",
    "x = Dropout(0.4)(x)\n",
    "\n",
    "# Fully connected layers\n",
    "x = Dense(256)(x)\n",
    "x = LeakyReLU()(x)\n",
    "x = Dropout(0.3)(x)\n",
    "\n",
    "x = Dense(128)(x)\n",
    "x = LeakyReLU()(x)\n",
    "x = Dropout(0.2)(x)\n",
    "\n",
    "# Output layer\n",
    "output = Dense(4, activation='softmax')(x)\n",
    "\n"
   ]
  },
  {
   "cell_type": "code",
   "execution_count": 11,
   "id": "5a426dd4",
   "metadata": {},
   "outputs": [],
   "source": [
    "\n",
    "# ✅ Final model\n",
    "\n",
    "# Final model\n",
    "model = Model(inputs=base_model.input, outputs=output)\n"
   ]
  },
  {
   "cell_type": "code",
   "execution_count": 12,
   "id": "1036bc5c",
   "metadata": {},
   "outputs": [],
   "source": [
    "from tensorflow.keras.optimizers import Adam\n",
    "from tensorflow.keras.losses import CategoricalCrossentropy\n",
    "\n",
    "model.compile(\n",
    "    optimizer=Adam(learning_rate=1e-4),\n",
    "    loss=CategoricalCrossentropy(label_smoothing=0.1),\n",
    "    metrics=['accuracy']\n",
    ")\n"
   ]
  },
  {
   "cell_type": "code",
   "execution_count": 17,
   "id": "3820d9f6",
   "metadata": {},
   "outputs": [
    {
     "name": "stdout",
     "output_type": "stream",
     "text": [
      "Epoch 1/20\n",
      "5782/5782 [==============================] - 593s 102ms/step - loss: 0.5026 - accuracy: 0.9273 - val_loss: 0.5244 - val_accuracy: 0.9090\n",
      "Epoch 2/20\n",
      "5782/5782 [==============================] - 595s 103ms/step - loss: 0.5003 - accuracy: 0.9289 - val_loss: 0.5220 - val_accuracy: 0.9102\n",
      "Epoch 3/20\n",
      "5782/5782 [==============================] - 594s 103ms/step - loss: 0.4981 - accuracy: 0.9301 - val_loss: 0.5263 - val_accuracy: 0.9081\n",
      "Epoch 4/20\n",
      "5782/5782 [==============================] - 591s 102ms/step - loss: 0.4965 - accuracy: 0.9306 - val_loss: 0.5259 - val_accuracy: 0.9089\n",
      "Epoch 5/20\n",
      "5782/5782 [==============================] - 590s 102ms/step - loss: 0.4949 - accuracy: 0.9316 - val_loss: 0.5234 - val_accuracy: 0.9110\n",
      "Epoch 6/20\n",
      "5782/5782 [==============================] - 596s 103ms/step - loss: 0.4933 - accuracy: 0.9323 - val_loss: 0.5221 - val_accuracy: 0.9081\n",
      "Epoch 7/20\n",
      "5782/5782 [==============================] - 595s 103ms/step - loss: 0.4912 - accuracy: 0.9337 - val_loss: 0.5299 - val_accuracy: 0.9070\n",
      "Epoch 8/20\n",
      "5782/5782 [==============================] - 596s 103ms/step - loss: 0.4892 - accuracy: 0.9350 - val_loss: 0.5242 - val_accuracy: 0.9089\n",
      "Epoch 9/20\n",
      "5782/5782 [==============================] - 606s 105ms/step - loss: 0.4875 - accuracy: 0.9359 - val_loss: 0.5262 - val_accuracy: 0.9093\n",
      "Epoch 10/20\n",
      "5782/5782 [==============================] - 599s 104ms/step - loss: 0.4870 - accuracy: 0.9362 - val_loss: 0.5213 - val_accuracy: 0.9109\n",
      "Epoch 11/20\n",
      "5782/5782 [==============================] - 593s 102ms/step - loss: 0.4853 - accuracy: 0.9370 - val_loss: 0.5223 - val_accuracy: 0.9106\n",
      "Epoch 12/20\n",
      "5782/5782 [==============================] - 595s 103ms/step - loss: 0.4838 - accuracy: 0.9381 - val_loss: 0.5248 - val_accuracy: 0.9093\n",
      "Epoch 13/20\n",
      "5782/5782 [==============================] - 594s 103ms/step - loss: 0.4817 - accuracy: 0.9390 - val_loss: 0.5257 - val_accuracy: 0.9105\n",
      "Epoch 14/20\n",
      "5782/5782 [==============================] - 597s 103ms/step - loss: 0.4813 - accuracy: 0.9398 - val_loss: 0.5247 - val_accuracy: 0.9093\n",
      "Epoch 15/20\n",
      "5782/5782 [==============================] - 598s 103ms/step - loss: 0.4808 - accuracy: 0.9394 - val_loss: 0.5256 - val_accuracy: 0.9070\n",
      "Epoch 16/20\n",
      "5782/5782 [==============================] - 601s 104ms/step - loss: 0.4786 - accuracy: 0.9407 - val_loss: 0.5265 - val_accuracy: 0.9085\n",
      "Epoch 17/20\n",
      "5782/5782 [==============================] - 596s 103ms/step - loss: 0.4778 - accuracy: 0.9412 - val_loss: 0.5236 - val_accuracy: 0.9088\n",
      "Epoch 18/20\n",
      "5782/5782 [==============================] - 601s 104ms/step - loss: 0.4769 - accuracy: 0.9411 - val_loss: 0.5267 - val_accuracy: 0.9082\n",
      "Epoch 19/20\n",
      "5782/5782 [==============================] - 595s 103ms/step - loss: 0.4754 - accuracy: 0.9429 - val_loss: 0.5264 - val_accuracy: 0.9103\n",
      "Epoch 20/20\n",
      "5782/5782 [==============================] - 600s 104ms/step - loss: 0.4742 - accuracy: 0.9429 - val_loss: 0.5272 - val_accuracy: 0.9075\n"
     ]
    }
   ],
   "source": [
    "# ✅ Train the model\n",
    "history = model.fit(\n",
    "    train_generator,\n",
    "    validation_data=val_generator,\n",
    "    epochs=20\n",
    ")"
   ]
  },
  {
   "cell_type": "code",
   "execution_count": 18,
   "id": "ab6ed555",
   "metadata": {},
   "outputs": [],
   "source": [
    "import numpy as np\n",
    "from sklearn.metrics import classification_report, confusion_matrix\n",
    "import seaborn as sns\n",
    "import matplotlib.pyplot as plt\n"
   ]
  },
  {
   "cell_type": "code",
   "execution_count": 19,
   "id": "a3f7e4f7",
   "metadata": {},
   "outputs": [
    {
     "name": "stdout",
     "output_type": "stream",
     "text": [
      "Found 20556 images belonging to 4 classes.\n"
     ]
    }
   ],
   "source": [
    "# ✅ Ensure validation generator doesn't shuffle (to match order)\n",
    "val_generator = val_datagen.flow_from_directory(\n",
    "    val_dir,\n",
    "    target_size=(IMG_SIZE, IMG_SIZE),\n",
    "    batch_size=BATCH_SIZE,\n",
    "    class_mode='categorical',\n",
    "    shuffle=False\n",
    ")"
   ]
  },
  {
   "cell_type": "code",
   "execution_count": 20,
   "id": "9bf2950d",
   "metadata": {},
   "outputs": [
    {
     "name": "stdout",
     "output_type": "stream",
     "text": [
      "643/643 [==============================] - 48s 74ms/step\n",
      "Classification Report:\n",
      "              precision    recall  f1-score   support\n",
      "\n",
      "         CNV       0.92      0.92      0.92      5139\n",
      "         DME       0.90      0.88      0.89      5139\n",
      "      DRUSEN       0.85      0.85      0.85      5139\n",
      "      NORMAL       0.95      0.99      0.97      5139\n",
      "\n",
      "    accuracy                           0.91     20556\n",
      "   macro avg       0.91      0.91      0.91     20556\n",
      "weighted avg       0.91      0.91      0.91     20556\n",
      "\n"
     ]
    }
   ],
   "source": [
    "# ✅ Predict on validation set\n",
    "y_pred_probs = model.predict(val_generator)\n",
    "y_pred_classes = np.argmax(y_pred_probs, axis=1)\n",
    "y_true = val_generator.classes\n",
    "class_labels = list(val_generator.class_indices.keys())\n",
    "\n",
    "# ✅ Classification report\n",
    "print(\"Classification Report:\")\n",
    "print(classification_report(y_true, y_pred_classes, target_names=class_labels))\n"
   ]
  },
  {
   "cell_type": "code",
   "execution_count": 21,
   "id": "2aef27b3",
   "metadata": {},
   "outputs": [
    {
     "data": {
      "image/png": "[encoded data removed]",
      "text/plain": [
       "<Figure size 1000x800 with 2 Axes>"
      ]
     },
     "metadata": {},
     "output_type": "display_data"
    }
   ],
   "source": [
    "# ✅ Confusion Matrix\n",
    "cm = confusion_matrix(y_true, y_pred_classes)\n",
    "plt.figure(figsize=(10, 8))\n",
    "sns.heatmap(cm, annot=True, fmt='d', cmap='Blues', xticklabels=class_labels, yticklabels=class_labels)\n",
    "plt.xlabel('Predicted')\n",
    "plt.ylabel('Actual')\n",
    "plt.title('Confusion Matrix')\n",
    "plt.show()"
   ]
  },
  {
   "cell_type": "code",
   "execution_count": 26,
   "id": "5d33fae2",
   "metadata": {},
   "outputs": [],
   "source": [
    "import numpy as np\n",
    "from tensorflow.keras.preprocessing import image\n",
    "from tensorflow.keras.applications.efficientnet import preprocess_input\n",
    "\n",
    "# Path to the test image\n",
    "img_path = \"Screenshot 2025-05-03 032923.png\"  # 👈 Replace with your image path\n",
    "\n",
    "# Load and preprocess the image\n",
    "img = image.load_img(img_path, target_size=(224, 224))\n",
    "img_array = image.img_to_array(img)\n",
    "img_array = np.expand_dims(img_array, axis=0)  # Add batch dimension\n",
    "img_array = preprocess_input(img_array)        # Normalize\n"
   ]
  },
  {
   "cell_type": "code",
   "execution_count": 27,
   "id": "e6a6bf6f",
   "metadata": {},
   "outputs": [
    {
     "name": "stdout",
     "output_type": "stream",
     "text": [
      "1/1 [==============================] - 1s 1s/step\n"
     ]
    }
   ],
   "source": [
    "# Make prediction\n",
    "predictions = model.predict(img_array)\n",
    "predicted_class_index = np.argmax(predictions[0])\n",
    "confidence = np.max(predictions[0])\n"
   ]
  },
  {
   "cell_type": "code",
   "execution_count": 28,
   "id": "e9ea8e03",
   "metadata": {},
   "outputs": [
    {
     "name": "stdout",
     "output_type": "stream",
     "text": [
      "Predicted class: CNV (Confidence: 1.00)\n"
     ]
    }
   ],
   "source": [
    "# Get class label mapping\n",
    "class_indices = train_generator.class_indices\n",
    "class_names = list(class_indices.keys())\n",
    "\n",
    "predicted_class_name = class_names[predicted_class_index]\n",
    "\n",
    "print(f\"Predicted class: {predicted_class_name} (Confidence: {confidence:.2f})\")\n"
   ]
  },
  {
   "cell_type": "code",
   "execution_count": 29,
   "id": "9649517d",
   "metadata": {},
   "outputs": [
    {
     "name": "stdout",
     "output_type": "stream",
     "text": [
      "Scanning inside model layers...\n",
      "⚡ Found Tensor in layer 'normalization' attribute: 'mean'\n",
      "⚡ Found Tensor in layer 'normalization' attribute: 'variance'\n",
      "⚡ Found Tensor in layer 'rescaling_1' attribute: 'scale'\n"
     ]
    },
    {
     "name": "stderr",
     "output_type": "stream",
     "text": [
      "C:\\Users\\DELL\\AppData\\Local\\Temp\\ipykernel_18356\\4088505527.py:8: UserWarning: `layer.updates` will be removed in a future version. This property should not be used in TensorFlow 2.0, as `updates` are applied automatically.\n",
      "  attr_value = getattr(layer, attr_name)\n"
     ]
    }
   ],
   "source": [
    "print(\"Scanning inside model layers...\")\n",
    "\n",
    "for layer in model.layers:\n",
    "    for attr_name in dir(layer):\n",
    "        if attr_name.startswith(\"_\"):\n",
    "            continue\n",
    "        try:\n",
    "            attr_value = getattr(layer, attr_name)\n",
    "        except Exception:\n",
    "            continue  # Skip attributes that throw errors\n",
    "\n",
    "        if isinstance(attr_value, tf.Tensor):\n",
    "            print(f\"⚡ Found Tensor in layer '{layer.name}' attribute: '{attr_name}'\")\n",
    "        elif isinstance(attr_value, (list, tuple)):\n",
    "            for item in attr_value:\n",
    "                if isinstance(item, tf.Tensor):\n",
    "                    print(f\"⚡ Found Tensor inside list/tuple in layer '{layer.name}' attribute: '{attr_name}'\")\n",
    "        elif isinstance(attr_value, dict):\n",
    "            for key, item in attr_value.items():\n",
    "                if isinstance(item, tf.Tensor):\n",
    "                    print(f\"⚡ Found Tensor inside dict in layer '{layer.name}' at key '{key}'\")\n"
   ]
  },
  {
   "cell_type": "code",
   "execution_count": 30,
   "id": "94d4089b",
   "metadata": {},
   "outputs": [],
   "source": [
    "model.get_layer('normalization').mean = model.get_layer('normalization').mean.numpy()\n",
    "model.get_layer('normalization').variance = model.get_layer('normalization').variance.numpy()\n",
    "model.get_layer('rescaling_1').scale = model.get_layer('rescaling_1').scale.numpy()\n"
   ]
  },
  {
   "cell_type": "code",
   "execution_count": 32,
   "id": "3f0817d2",
   "metadata": {},
   "outputs": [],
   "source": [
    "model.save(\"model_save.keras\")"
   ]
  },
  {
   "cell_type": "code",
   "execution_count": 1,
   "id": "0af1fb54",
   "metadata": {},
   "outputs": [],
   "source": [
    "from tensorflow import keras\n",
    "\n",
    "model = keras.models.load_model(\"model_save.keras\")\n"
   ]
  },
  {
   "cell_type": "code",
   "execution_count": 2,
   "id": "15de9d44",
   "metadata": {},
   "outputs": [],
   "source": [
    "import numpy as np\n",
    "from tensorflow.keras.preprocessing import image\n",
    "from tensorflow.keras.applications.efficientnet import preprocess_input\n",
    "\n",
    "# Path to the test image\n",
    "img_path = \"dme_1132061_1.jpg\"  # 👈 Replace with your image path\n",
    "\n",
    "# Load and preprocess the image\n",
    "img = image.load_img(img_path, target_size=(224, 224))\n",
    "img_array = image.img_to_array(img)\n",
    "img_array = np.expand_dims(img_array, axis=0)  # Add batch dimension\n",
    "img_array = preprocess_input(img_array)        # Normalize\n"
   ]
  },
  {
   "cell_type": "code",
   "execution_count": 3,
   "id": "df24b60d",
   "metadata": {},
   "outputs": [
    {
     "name": "stdout",
     "output_type": "stream",
     "text": [
      "1/1 [==============================] - 7s 7s/step\n"
     ]
    }
   ],
   "source": [
    "# Make prediction\n",
    "predictions = model.predict(img_array)\n",
    "predicted_class_index = np.argmax(predictions[0])\n",
    "confidence = np.max(predictions[0])\n"
   ]
  },
  {
   "cell_type": "code",
   "execution_count": 6,
   "id": "f076d485",
   "metadata": {},
   "outputs": [
    {
     "name": "stdout",
     "output_type": "stream",
     "text": [
      "Predicted class: 1 (Confidence: 1.00)\n"
     ]
    }
   ],
   "source": [
    "# Get class label mapping\n",
    "class_indices = {0:\"CNV\", 1:\"DME\", 2:\"DRUSEN\", 3:\"NORMAL\"}\n",
    "class_names = list(class_indices.keys())\n",
    "\n",
    "predicted_class_name = class_names[predicted_class_index]\n",
    "\n",
    "print(f\"Predicted class: {predicted_class_name} (Confidence: {confidence:.2f})\")\n"
   ]
  },
  {
   "cell_type": "code",
   "execution_count": null,
   "id": "ce98a222",
   "metadata": {},
   "outputs": [],
   "source": []
  }
 ],
 "metadata": {
  "kernelspec": {
   "display_name": "eyediseaseclassification_env",
   "language": "python",
   "name": "python3"
  },
  "language_info": {
   "codemirror_mode": {
    "name": "ipython",
    "version": 3
   },
   "file_extension": ".py",
   "mimetype": "text/x-python",
   "name": "python",
   "nbconvert_exporter": "python",
   "pygments_lexer": "ipython3",
   "version": "3.10.0"
  }
 },
 "nbformat": 4,
 "nbformat_minor": 5
}
